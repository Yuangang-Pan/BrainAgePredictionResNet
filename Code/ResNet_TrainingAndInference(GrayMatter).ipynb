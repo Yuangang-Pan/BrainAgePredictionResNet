{
 "cells": [
  {
   "cell_type": "code",
   "execution_count": null,
   "metadata": {
    "scrolled": true
   },
   "outputs": [],
   "source": [
    "!pip install pandas\n",
    "!pip install nibabel\n",
    "!pip install matplotlib    \n",
    "!pip install transformations\n",
    "!pip install scikit-learn"
   ]
  },
  {
   "cell_type": "code",
   "execution_count": null,
   "metadata": {},
   "outputs": [],
   "source": [
    "import pandas as pd\n",
    "import os\n",
    "import scipy.ndimage as nd\n",
    "from sklearn.model_selection import train_test_split\n",
    "from sklearn.metrics import r2_score,mean_absolute_error\n",
    "import numpy as np\n",
    "import matplotlib.pyplot as plt\n",
    "import math\n",
    "import sys\n",
    "from tensorflow.keras.models import load_model\n",
    "sys.path.append('./SRC')\n",
    "import random\n",
    "import glob\n",
    "import nibabel as nib\n",
    "from collections import defaultdict\n",
    "from tensorflow.keras.optimizers import Adam, SGD,Adagrad\n",
    "from tensorflow.compat.v1 import reset_default_graph\n",
    "from sklearn.model_selection import KFold\n",
    "from DataLoader import dataGenerator,getIcelandicData,getIXIData,getUKBData\n",
    "from Util import plotData,getPredictions,loadMR,loadHeader,calculateMeanImg\n",
    "from ResNet import generateAgePredictionResNet\n",
    "from tensorflow.keras.callbacks import ModelCheckpoint,EarlyStopping\n",
    "import skopt\n",
    "from skopt import gbrt_minimize, gp_minimize\n",
    "from skopt.utils import use_named_args\n",
    "from skopt.space import Real, Categorical, Integer  \n",
    "from tensorflow.python.keras import backend as K\n",
    "import tensorflow.compat.v1 as tf\n",
    "tf.disable_v2_behavior()\n",
    "from tensorflow.keras.models import load_model"
   ]
  },
  {
   "cell_type": "code",
   "execution_count": null,
   "metadata": {},
   "outputs": [],
   "source": [
    "!nvidia-smi"
   ]
  },
  {
   "cell_type": "markdown",
   "metadata": {},
   "source": [
    "#### Load data"
   ]
  },
  {
   "cell_type": "code",
   "execution_count": null,
   "metadata": {},
   "outputs": [],
   "source": [
    "imageType = 'GrayMatter'\n",
    "iceData = getIcelandicData(imageType)\n",
    "\n",
    "pns = iceData['PN'].unique()\n",
    "pnTrainingSet, pnTest = train_test_split(pns, test_size = 0.2,random_state=45346)\n",
    "pnTrain, pnVal = train_test_split(pnTrainingSet, test_size = 0.2,random_state=257572)\n",
    "\n",
    "train = iceData[iceData['PN'].isin(pnTrain)]\n",
    "test = iceData[iceData['PN'].isin(pnTest)]\n",
    "val = iceData[iceData['PN'].isin(pnVal)]\n",
    "\n",
    "train_IXI,val_IXI = getIXIData(imageType)"
   ]
  },
  {
   "cell_type": "code",
   "execution_count": null,
   "metadata": {},
   "outputs": [],
   "source": [
    "dataShape = (121, 145, 121)"
   ]
  },
  {
   "cell_type": "code",
   "execution_count": null,
   "metadata": {},
   "outputs": [],
   "source": [
    "#meanTrainingAge = train['Age'].mean()"
   ]
  },
  {
   "cell_type": "code",
   "execution_count": null,
   "metadata": {},
   "outputs": [],
   "source": [
    "icelandicMeanImg = calculateMeanImg(train.Loc.values)"
   ]
  },
  {
   "cell_type": "code",
   "execution_count": null,
   "metadata": {},
   "outputs": [],
   "source": [
    "batchExample = dataGenerator([train.Loc.values,train.Scanner.values,train.Gender.values],train.Age.values, batch_size = 4, meanImg=None,dim=dataShape,shuffle=False,augment=False,maxAngle=40,maxShift=10)\n",
    "tmp = batchExample.__getitem__(70)\n",
    "print('Age: {} years'.format(tmp[1][0][0]))\n",
    "plotData(tmp[0][0][:,:,:,:,:],c=2,d=10,nSlices=8)"
   ]
  },
  {
   "cell_type": "markdown",
   "metadata": {},
   "source": [
    "#### Train on Icelandic data"
   ]
  },
  {
   "cell_type": "code",
   "execution_count": null,
   "metadata": {},
   "outputs": [],
   "source": [
    "nEpochs=500\n",
    "batchSize = 4\n",
    "steps_per_epoch= train.shape[0]//batchSize\n",
    "validation_steps = val.shape[0]//batchSize"
   ]
  },
  {
   "cell_type": "code",
   "execution_count": null,
   "metadata": {},
   "outputs": [],
   "source": [
    "default_parameters = [0.001,1e-6,'RawImg','IncludeGender','IncludeScanner',0.00005,0.2,40,10]\n",
    "lr, decayRate, meanImg, gender, scanner,regAmount, dropRate, maxAngle,maxShift = default_parameters\n",
    "if gender == 'RandomInput':\n",
    "    gender_train = np.random.rand(train.Gender.shape[0])\n",
    "    gender_val = np.random.rand(val.Gender.shape[0])\n",
    "else:\n",
    "    gender_train = train.Gender.values\n",
    "    gender_val = val.Gender.values\n",
    "if scanner == 'RandomInput':\n",
    "    scanner_train = np.random.rand(train.Scanner.shape[0])\n",
    "    scanner_val = np.random.rand(val.Scanner.shape[0])\n",
    "else:\n",
    "    scanner_train = train.Scanner.values\n",
    "    scanner_val = val.Scanner.values\n",
    "if meanImg == 'SubtractMean':\n",
    "    meanImg = icelandicMeanImg\n",
    "else:\n",
    "    meanImg = None"
   ]
  },
  {
   "cell_type": "code",
   "execution_count": null,
   "metadata": {},
   "outputs": [],
   "source": [
    "model = generateAgePredictionResNet(dataShape,regAmount=regAmount,dropRate=dropRate)\n",
    "#lr=0.001\n",
    "#decayRate=1e-6\n",
    "#momentum=0.9\n",
    "adam = Adam(lr=lr, decay=decayRate)\n",
    "model.compile(loss='mean_absolute_error',optimizer=adam, metrics=['mae','mse'])"
   ]
  },
  {
   "cell_type": "code",
   "execution_count": null,
   "metadata": {},
   "outputs": [],
   "source": [
    "mc = ModelCheckpoint('../Models/BrainAgeResNet({}-Ice)'.format(imageType),verbose=1,mode='min',save_best_only=True)\n",
    "early = EarlyStopping(patience=100, verbose=1)"
   ]
  },
  {
   "cell_type": "code",
   "execution_count": null,
   "metadata": {
    "scrolled": true
   },
   "outputs": [],
   "source": [
    "h = model.fit(dataGenerator([train.Loc.values,scanner_train,gender_train],train.Age.values, batch_size = batchSize, meanImg=meanImg,dim=dataShape,shuffle=True,augment=True,maxAngle=maxAngle,maxShift=maxShift),\n",
    "                        validation_data=dataGenerator([val.Loc.values,scanner_val,gender_val],val.Age.values, batch_size = batchSize, meanImg=meanImg,dim=dataShape,shuffle=False,augment=False),\n",
    "                        validation_steps=validation_steps,\n",
    "                        steps_per_epoch=steps_per_epoch, \n",
    "                        epochs=nEpochs,\n",
    "                        verbose=1,\n",
    "                        max_queue_size=32,\n",
    "                        workers=4,\n",
    "                        use_multiprocessing=False,\n",
    "                        callbacks=[mc,early]\n",
    "                           )"
   ]
  },
  {
   "cell_type": "code",
   "execution_count": null,
   "metadata": {},
   "outputs": [],
   "source": [
    "plt.plot(h.history['loss'])\n",
    "plt.plot(h.history['val_loss'])\n",
    "plt.title('ResNet Loss')\n",
    "plt.ylabel('Loss')\n",
    "plt.xlabel('Epoch')\n",
    "plt.legend(['Train', 'Valid'], loc='upper left')\n",
    "\n",
    "plt.show()\n",
    "\n",
    "plt.plot(h.history['mean_absolute_error'])\n",
    "plt.plot(h.history['val_mean_absolute_error'])\n",
    "plt.title('ResNet MAE')\n",
    "plt.ylabel('MAE')\n",
    "plt.xlabel('Epoch')\n",
    "plt.legend(['Train', 'Valid'], loc='upper left')\n",
    "\n",
    "plt.show()"
   ]
  },
  {
   "cell_type": "code",
   "execution_count": null,
   "metadata": {},
   "outputs": [],
   "source": [
    "model.save('../Models/BrainAgeResNet({}-Ice-TrainedFor{}Epochs)'.format(imageType,len(h.history['loss'])))"
   ]
  },
  {
   "cell_type": "code",
   "execution_count": null,
   "metadata": {},
   "outputs": [],
   "source": [
    "model = load_model('../Models/BrainAgeResNet({}-Ice)'.format(imageType))"
   ]
  },
  {
   "cell_type": "code",
   "execution_count": null,
   "metadata": {},
   "outputs": [],
   "source": [
    "val_prediction = model.predict(dataGenerator([val.Loc.values,scanner_val,gender_val],val.Age.values, batch_size = 1, meanImg=meanImg,dim=dataShape,shuffle=False,augment=False),\n",
    "                        verbose=1,\n",
    "                        max_queue_size=32,\n",
    "                        workers=4,\n",
    "                        use_multiprocessing=False,\n",
    "                        )\n",
    "\n",
    "test_prediction = model.predict(dataGenerator([test.Loc.values,test.Scanner.values,test.Gender.values],test.Age.values, batch_size = 1, meanImg=meanImg,dim=dataShape,shuffle=False,augment=False),\n",
    "                        verbose=1,\n",
    "                        max_queue_size=32,\n",
    "                        workers=4,\n",
    "                        use_multiprocessing=False\n",
    "                        )"
   ]
  },
  {
   "cell_type": "code",
   "execution_count": null,
   "metadata": {},
   "outputs": [],
   "source": [
    "predictions = val_prediction[:,0]\n",
    "yVal = val.Age.values\n",
    "print('Validation R^2: ',r2_score(yVal,predictions))\n",
    "print('Test MAE: ',mean_absolute_error(yVal,predictions))\n",
    "y_range = np.arange(np.min(yVal),np.max(yVal))\n",
    "plt.scatter(yVal,predictions,label='T1 Prediction')\n",
    "plt.plot(y_range,y_range,c='black',ls='dashed',label='45 deg line')\n",
    "plt.xlabel('Age')\n",
    "plt.ylabel('Predicted Age')\n",
    "plt.legend()\n",
    "plt.show()\n",
    "\n",
    "predictions = test_prediction[:,0]\n",
    "yTest = test.Age.values\n",
    "\n",
    "print('Test R^2: ',r2_score(yTest,predictions))\n",
    "print('Test MAE: ',mean_absolute_error(yTest,predictions))\n",
    "y_range = np.arange(np.min(yTest),np.max(yTest))\n",
    "plt.scatter(yTest,predictions,label='T1 prediction')\n",
    "plt.plot(y_range,y_range,c='black',ls='dashed',label='45 deg line')\n",
    "plt.xlabel('Age')\n",
    "plt.ylabel('Predicted Age')\n",
    "plt.legend()\n",
    "plt.show()"
   ]
  },
  {
   "cell_type": "markdown",
   "metadata": {},
   "source": [
    "#### Transfer learning on IXI"
   ]
  },
  {
   "cell_type": "code",
   "execution_count": null,
   "metadata": {},
   "outputs": [],
   "source": [
    "ixiMeanImg = calculateMeanImg(train_IXI.Loc.values)"
   ]
  },
  {
   "cell_type": "code",
   "execution_count": null,
   "metadata": {},
   "outputs": [],
   "source": [
    "batchExample = dataGenerator([train_IXI.Loc.values,train_IXI.Scanner.values,train_IXI.Gender.values],train_IXI.Age.values, batch_size = 4, meanImg=None,dim=dataShape,shuffle=False,augment=False,maxAngle=40,maxShift=10)\n",
    "tmp = batchExample.__getitem__(70)\n",
    "print('Age: {} years'.format(tmp[1][0][0]))\n",
    "plotData(tmp[0][0][:,:,:,:,:],c=2,d=10,nSlices=8)"
   ]
  },
  {
   "cell_type": "code",
   "execution_count": null,
   "metadata": {},
   "outputs": [],
   "source": [
    "model = load_model('../Models/BrainAgeResNet({}-Ice)'.format(imageType))\n",
    "for layer in model.layers[:19]:\n",
    "    layer.trainable = False\n",
    "\n",
    "adam = Adam(lr=0.001, decay=1e-6)\n",
    "model.compile(loss='mean_absolute_error',optimizer=adam,metrics=['mae','mse'])\n",
    "    \n",
    "batchSize = 4"
   ]
  },
  {
   "cell_type": "code",
   "execution_count": null,
   "metadata": {},
   "outputs": [],
   "source": [
    "nEpochs=250\n",
    "mc = ModelCheckpoint('../Models/BrainAgeResNet({}-Ice-TransferLearningOnIXI)'.format(imageType),verbose=1,mode='min',save_best_only=True)\n",
    "early = EarlyStopping(patience=100, verbose=1)"
   ]
  },
  {
   "cell_type": "code",
   "execution_count": null,
   "metadata": {
    "scrolled": true
   },
   "outputs": [],
   "source": [
    "h = model.fit(dataGenerator([train_IXI.Loc.values,train_IXI.Scanner.values,train_IXI.Gender.values],train_IXI.Age.values, batch_size = batchSize, meanImg=meanImg,dim=dataShape,shuffle=True,augment=True,maxAngle=maxAngle,maxShift=maxShift),\n",
    "                        validation_data=dataGenerator([val_IXI.Loc.values,val_IXI.Scanner.values,val_IXI.Gender.values],val_IXI.Age.values, batch_size = batchSize, meanImg=meanImg,dim=dataShape,shuffle=False,augment=False),\n",
    "                        validation_steps=validation_steps,\n",
    "                        steps_per_epoch=steps_per_epoch, \n",
    "                        epochs=nEpochs,\n",
    "                        verbose=1,\n",
    "                        max_queue_size=32,\n",
    "                        workers=4,\n",
    "                        use_multiprocessing=False,\n",
    "                        callbacks=[mc,early]\n",
    "                           )"
   ]
  },
  {
   "cell_type": "code",
   "execution_count": null,
   "metadata": {},
   "outputs": [],
   "source": [
    "plt.plot(h.history['loss'])\n",
    "plt.plot(h.history['val_loss'])\n",
    "plt.title('ResNet IXI Transfer Learning Loss')\n",
    "plt.ylabel('Loss')\n",
    "plt.xlabel('Epoch')\n",
    "plt.legend(['Train', 'Valid'], loc='upper left')\n",
    "\n",
    "plt.show()\n",
    "\n",
    "plt.plot(h.history['mean_absolute_error'])\n",
    "plt.plot(h.history['val_mean_absolute_error'])\n",
    "plt.title('ResNet Transfer Learning MAE')\n",
    "plt.ylabel('MAE')\n",
    "plt.xlabel('Epoch')\n",
    "plt.legend(['Train', 'Valid'], loc='upper left')\n",
    "\n",
    "plt.show()"
   ]
  },
  {
   "cell_type": "code",
   "execution_count": null,
   "metadata": {},
   "outputs": [],
   "source": [
    "model = load_model('../Models/BrainAgeResNet({}-Ice)'.format(imageType))\n",
    "\n",
    "ixi_val_prediction_noTL = model.predict(dataGenerator([val_IXI.Loc.values,val_IXI.Scanner.values,val_IXI.Gender.values],val_IXI.Age.values, batch_size = 1, meanImg=meanImg,dim=dataShape,shuffle=False,augment=False),\n",
    "                        verbose=1,\n",
    "                        max_queue_size=32,\n",
    "                        workers=4,\n",
    "                        use_multiprocessing=False,\n",
    "                        )\n",
    "\n",
    "predictions = ixi_val_prediction_noTL[:,0]\n",
    "yVal = val_IXI.Age.values\n",
    "print('Validation R^2: ',r2_score(yVal,predictions))\n",
    "print('Test MAE: ',mean_absolute_error(yVal,predictions))\n",
    "y_range = np.arange(np.min(yVal),np.max(yVal))\n",
    "plt.scatter(yVal,predictions,label='T1 Prediction')\n",
    "plt.plot(y_range,y_range,c='black',ls='dashed',label='45 deg line')\n",
    "plt.xlabel('Age')\n",
    "plt.ylabel('Predicted Age')\n",
    "plt.title('Prediction without transfer learning (IXI Validation)')\n",
    "plt.legend()\n",
    "plt.show()\n",
    "\n",
    "model = load_model('../Models/BrainAgeResNet({}-Ice-TransferLearningOnIXI)'.format(imageType))\n",
    "\n",
    "ixi_val_prediction_TL = model.predict(dataGenerator([val_IXI.Loc.values,val_IXI.Scanner.values,val_IXI.Gender.values],val_IXI.Age.values, batch_size = 1, meanImg=meanImg,dim=dataShape,shuffle=False,augment=False),\n",
    "                        verbose=1,\n",
    "                        max_queue_size=32,\n",
    "                        workers=4,\n",
    "                        use_multiprocessing=False,\n",
    "                        )\n",
    "\n",
    "predictions = ixi_val_prediction_TL[:,0]\n",
    "yVal = val_IXI.Age.values\n",
    "print('Validation R^2: ',r2_score(yVal,predictions))\n",
    "print('Test MAE: ',mean_absolute_error(yVal,predictions))\n",
    "y_range = np.arange(np.min(yVal),np.max(yVal))\n",
    "plt.scatter(yVal,predictions,label='T1 Prediction')\n",
    "plt.plot(y_range,y_range,c='black',ls='dashed',label='45 deg line')\n",
    "plt.xlabel('Age')\n",
    "plt.ylabel('Predicted Age')\n",
    "plt.title('Prediction with transfer learning (IXI Validation)')\n",
    "plt.legend()\n",
    "plt.show()"
   ]
  },
  {
   "cell_type": "markdown",
   "metadata": {},
   "source": [
    "#### Generate UK Biobank brian age predictions"
   ]
  },
  {
   "cell_type": "code",
   "execution_count": null,
   "metadata": {},
   "outputs": [],
   "source": [
    "ukb = getUKBData(imageType)"
   ]
  },
  {
   "cell_type": "code",
   "execution_count": null,
   "metadata": {},
   "outputs": [],
   "source": [
    "batchExample = dataGenerator([ukb.Loc.values,ukb.Scanner.values,ukb.Gender.values],ukb.Age.values, batch_size = 4, meanImg=None,dim=dataShape,shuffle=False,augment=False,maxAngle=40,maxShift=10)\n",
    "tmp = batchExample.__getitem__(70)\n",
    "print('Age: {} years'.format(tmp[1][0][0]))\n",
    "plotData(tmp[0][0][:,:,:,:,:],c=2,d=10,nSlices=8)"
   ]
  },
  {
   "cell_type": "markdown",
   "metadata": {},
   "source": [
    "Let's predict the age of the UK Biobank data using the ResNet trained on the Icelandic data only."
   ]
  },
  {
   "cell_type": "code",
   "execution_count": null,
   "metadata": {
    "scrolled": true
   },
   "outputs": [],
   "source": [
    "model = load_model('../Models/BrainAgeResNet({}-Ice)'.format(imageType))"
   ]
  },
  {
   "cell_type": "code",
   "execution_count": null,
   "metadata": {},
   "outputs": [],
   "source": [
    "ukb_prediction_noTL = model.predict(dataGenerator([ukb.Loc.values,ukb.Scanner.values,ukb.Gender.values],ukb.Age.values, batch_size = 1, meanImg=meanImg,dim=dataShape,shuffle=False,augment=False),\n",
    "                        verbose=1,\n",
    "                        max_queue_size=32,\n",
    "                        workers=4,\n",
    "                        use_multiprocessing=False,\n",
    "                        )"
   ]
  },
  {
   "cell_type": "code",
   "execution_count": null,
   "metadata": {},
   "outputs": [],
   "source": [
    "predictions = ukb_prediction_noTL[:,0]\n",
    "y = ukb.Age.values \n",
    "print('R^2: ',r2_score(y,predictions))\n",
    "print('MAE: ',mean_absolute_error(y,predictions))\n",
    "plt.scatter(y,predictions,label='Predictions')\n",
    "y_range = np.arange(20,np.max(y))\n",
    "plt.plot(y_range,y_range,c='black',ls='dashed',label='45 deg line')\n",
    "plt.xlabel('Age')\n",
    "plt.ylabel('Predicted Age')\n",
    "plt.title('Prediction without transfer learning (UK Biobank)')\n",
    "plt.legend()\n",
    "plt.show()"
   ]
  },
  {
   "cell_type": "code",
   "execution_count": null,
   "metadata": {},
   "outputs": [],
   "source": [
    "brainAge = pd.DataFrame({'PredictedBrainAge':np.array(predictions)},index = ukb['ID'])\n",
    "brainAge.to_csv('../Results/{}_CNN_NoTL_pred.txt'.format(imageType),sep='\\t')"
   ]
  },
  {
   "cell_type": "markdown",
   "metadata": {},
   "source": [
    "Now let's try the model trained on the Icelandic data and IXI."
   ]
  },
  {
   "cell_type": "code",
   "execution_count": null,
   "metadata": {},
   "outputs": [],
   "source": [
    "model = load_model('../Models/BrainAgeResNet({}-Ice-TransferLearningOnIXI)'.format(imageType))"
   ]
  },
  {
   "cell_type": "code",
   "execution_count": null,
   "metadata": {},
   "outputs": [],
   "source": [
    "ukb_prediction_TL = model.predict(dataGenerator([ukb.Loc.values,ukb.Scanner.values,ukb.Gender.values],ukb.Age.values, batch_size = 1, meanImg=meanImg,dim=dataShape,shuffle=False,augment=False),\n",
    "                        verbose=1,\n",
    "                        max_queue_size=32,\n",
    "                        workers=4,\n",
    "                        use_multiprocessing=False,\n",
    "                        )\n",
    "\n",
    "predictions = ukb_prediction_TL[:,0]\n",
    "y = ukb.Age.values \n",
    "print('R^2: ',r2_score(y,predictions))\n",
    "print('MAE: ',mean_absolute_error(y,predictions))\n",
    "\n",
    "plt.scatter(y,predictions,label='Predictions')\n",
    "y_range = np.arange(20,np.max(y))\n",
    "plt.plot(y_range,y_range,c='black',ls='dashed',label='45 deg line')\n",
    "plt.xlabel('Age')\n",
    "plt.ylabel('Predicted Age')\n",
    "plt.title('Prediction with transfer learning (UK Biobank)')\n",
    "plt.legend()\n",
    "plt.show()"
   ]
  },
  {
   "cell_type": "code",
   "execution_count": null,
   "metadata": {},
   "outputs": [],
   "source": [
    "brainAge = pd.DataFrame({'PredictedBrainAge':np.array(predictions)},index = ukb['ID'])\n",
    "brainAge.to_csv('../Results/{}_CNN_WithTL_pred.txt'.format(imageType),sep='\\t')"
   ]
  },
  {
   "cell_type": "code",
   "execution_count": null,
   "metadata": {},
   "outputs": [],
   "source": []
  }
 ],
 "metadata": {
  "kernelspec": {
   "display_name": "Python 3",
   "language": "python",
   "name": "python3"
  },
  "language_info": {
   "codemirror_mode": {
    "name": "ipython",
    "version": 3
   },
   "file_extension": ".py",
   "mimetype": "text/x-python",
   "name": "python",
   "nbconvert_exporter": "python",
   "pygments_lexer": "ipython3",
   "version": "3.6.3"
  }
 },
 "nbformat": 4,
 "nbformat_minor": 4
}
